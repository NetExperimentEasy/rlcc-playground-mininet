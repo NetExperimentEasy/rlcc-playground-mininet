{
 "cells": [
  {
   "cell_type": "code",
   "execution_count": 1,
   "metadata": {},
   "outputs": [],
   "source": [
    "# %cd gym-rlcc\n",
    "# %pip install -e ."
   ]
  },
  {
   "cell_type": "code",
   "execution_count": 2,
   "metadata": {},
   "outputs": [
    {
     "name": "stderr",
     "output_type": "stream",
     "text": [
      "/home/seclee/miniconda3/lib/python3.9/site-packages/gym/envs/registration.py:555: UserWarning: \u001b[33mWARN: The environment gym_rlcc/rlcc-v0 is out of date. You should consider upgrading to version `v1`.\u001b[0m\n",
      "  logger.warn(\n"
     ]
    },
    {
     "name": "stdout",
     "output_type": "stream",
     "text": [
      "rlccstate_1001 订阅成功\n",
      "reset : 1001 : [3.8000000e+01 1.5200000e+02 3.1458222e+06 3.7660742e+02 9.4150391e+01\n",
      " 3.8629150e-01 0.0000000e+00 0.0000000e+00 0.0000000e+00 8.5937500e-02\n",
      " 3.0468750e+01 2.8063000e+04]\n",
      "start episode 0\n"
     ]
    },
    {
     "ename": "ValueError",
     "evalue": "too many values to unpack (expected 4)",
     "output_type": "error",
     "traceback": [
      "\u001b[0;31m---------------------------------------------------------------------------\u001b[0m",
      "\u001b[0;31mValueError\u001b[0m                                Traceback (most recent call last)",
      "Cell \u001b[0;32mIn [2], line 27\u001b[0m\n\u001b[1;32m     25\u001b[0m pacing_rate \u001b[39m=\u001b[39m \u001b[39m1.5\u001b[39m\n\u001b[1;32m     26\u001b[0m action \u001b[39m=\u001b[39m [pacing_rate]\n\u001b[0;32m---> 27\u001b[0m observation, reward, done, info \u001b[39m=\u001b[39m env\u001b[39m.\u001b[39mstep(action)\n\u001b[1;32m     28\u001b[0m \u001b[39mprint\u001b[39m(observation)\n\u001b[1;32m     29\u001b[0m \u001b[39mif\u001b[39;00m done:\n",
      "\u001b[0;31mValueError\u001b[0m: too many values to unpack (expected 4)"
     ]
    }
   ],
   "source": [
    "import gym\n",
    "import gym_rlcc\n",
    "import numpy as np\n",
    "import time\n",
    "# import heartrate; heartrate.trace(browser=True)\n",
    "\n",
    "rlcc_flag = 1001\n",
    "\n",
    "\n",
    "config = {\n",
    "    \"rlcc_flag\" : rlcc_flag,\n",
    "}\n",
    "\n",
    "env = gym.make(\"gym_rlcc/rlcc-v0-rllib\", config=config)\n",
    "\n",
    "time_step = []\n",
    "\n",
    "for episode in range(1):\n",
    "    done = False\n",
    "    observation = env.reset() #初始化环境每次迭代\n",
    "    print(f\"start episode {episode}\")\n",
    "    while not done:\n",
    "        start = time.time()\n",
    "        cwnd = 0.0           # 现阶段环境 动作设计为增减cwnd， pacing设为0\n",
    "        pacing_rate = 1.5\n",
    "        action = [pacing_rate]\n",
    "        observation, reward, done, info = env.step(action)\n",
    "        print(observation)\n",
    "        if done:\n",
    "            print(observation, reward, done, info)\n",
    "        end = time.time()\n",
    "        time_step.append(end-start)\n",
    "\n",
    "print(time_step, 1000*np.mean(time_step[:-1]))\n",
    "\n",
    "env.close()"
   ]
  },
  {
   "cell_type": "code",
   "execution_count": null,
   "metadata": {},
   "outputs": [],
   "source": []
  }
 ],
 "metadata": {
  "kernelspec": {
   "display_name": "Python 3.9.12 ('base')",
   "language": "python",
   "name": "python3"
  },
  "language_info": {
   "codemirror_mode": {
    "name": "ipython",
    "version": 3
   },
   "file_extension": ".py",
   "mimetype": "text/x-python",
   "name": "python",
   "nbconvert_exporter": "python",
   "pygments_lexer": "ipython3",
   "version": "3.9.12"
  },
  "orig_nbformat": 4,
  "vscode": {
   "interpreter": {
    "hash": "aba0adf1a6d1103e13c44533846050a0cc1a9fc154fec9cd7f259fe4b24f1423"
   }
  }
 },
 "nbformat": 4,
 "nbformat_minor": 2
}
